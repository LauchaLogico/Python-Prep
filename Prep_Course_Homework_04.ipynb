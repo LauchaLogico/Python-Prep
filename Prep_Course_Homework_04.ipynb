{
 "cells": [
  {
   "attachments": {},
   "cell_type": "markdown",
   "metadata": {},
   "source": [
    "## Flujos de Control"
   ]
  },
  {
   "attachments": {},
   "cell_type": "markdown",
   "metadata": {},
   "source": [
    "1) Crear una variable que contenga un elemento del conjunto de números enteros y luego imprimir por pantalla si es mayor o menor a cero"
   ]
  },
  {
   "cell_type": "code",
   "execution_count": 8,
   "metadata": {},
   "outputs": [
    {
     "name": "stdout",
     "output_type": "stream",
     "text": [
      "el número es menor a cero\n"
     ]
    }
   ],
   "source": [
    "a=-4\n",
    "if(a<0):\n",
    "    print(\"el número es menor a cero\")\n",
    "elif(a>0):\n",
    "    print(\"el número es mayor a cero\")\n",
    "else:\n",
    "    print(\"el número es igual a cero\")\n",
    "\n",
    "\n"
   ]
  },
  {
   "attachments": {},
   "cell_type": "markdown",
   "metadata": {},
   "source": [
    "2) Crear dos variables y un condicional que informe si son del mismo tipo de dato"
   ]
  },
  {
   "cell_type": "code",
   "execution_count": 6,
   "metadata": {},
   "outputs": [
    {
     "name": "stdout",
     "output_type": "stream",
     "text": [
      "son de distinto tipo\n",
      "<class 'complex'>\n"
     ]
    }
   ],
   "source": [
    "a= 6\n",
    "b= 4-4j\n",
    "if(type(a) == type(b)):\n",
    "    print(\"son del mismo tipo\")\n",
    "else:\n",
    "    print(\"son de distinto tipo\")\n",
    "print(type(b))"
   ]
  },
  {
   "attachments": {},
   "cell_type": "markdown",
   "metadata": {},
   "source": [
    "3) Para los valores enteros del 1 al 20, imprimir por pantalla si es par o impar"
   ]
  },
  {
   "cell_type": "code",
   "execution_count": 3,
   "metadata": {},
   "outputs": [
    {
     "name": "stdout",
     "output_type": "stream",
     "text": [
      "1  = es impar\n",
      "2  = es par\n",
      "3  = es impar\n",
      "4  = es par\n",
      "5  = es impar\n",
      "6  = es par\n",
      "7  = es impar\n",
      "8  = es par\n",
      "9  = es impar\n",
      "10  = es par\n",
      "11  = es impar\n",
      "12  = es par\n",
      "13  = es impar\n",
      "14  = es par\n",
      "15  = es impar\n",
      "16  = es par\n",
      "17  = es impar\n",
      "18  = es par\n",
      "19  = es impar\n",
      "20  = es par\n"
     ]
    }
   ],
   "source": [
    "b=21\n",
    "a=1\n",
    "while a<b:\n",
    "    if (a%2 == 0):\n",
    "        print(a, \" = es par\")\n",
    "    else:\n",
    "        print(a, \" = es impar\")\n",
    "    a +=1\n",
    "\n",
    "\n"
   ]
  },
  {
   "attachments": {},
   "cell_type": "markdown",
   "metadata": {},
   "source": [
    "4) En un ciclo for mostrar para los valores entre 0 y 5 el resultado de elevarlo a la potencia igual a 3"
   ]
  },
  {
   "cell_type": "code",
   "execution_count": 5,
   "metadata": {},
   "outputs": [
    {
     "name": "stdout",
     "output_type": "stream",
     "text": [
      "0\n",
      "1\n",
      "8\n",
      "27\n",
      "64\n",
      "125\n"
     ]
    }
   ],
   "source": [
    "a= [0,1,2,3,4,5]\n",
    "for b in a:\n",
    "    print (b**3)\n"
   ]
  },
  {
   "attachments": {},
   "cell_type": "markdown",
   "metadata": {},
   "source": [
    "5) Crear una variable que contenga un número entero y realizar un ciclo for la misma cantidad de ciclos"
   ]
  },
  {
   "cell_type": "code",
   "execution_count": 10,
   "metadata": {},
   "outputs": [
    {
     "name": "stdout",
     "output_type": "stream",
     "text": [
      "0\n",
      "1\n",
      "4\n",
      "9\n",
      "16\n",
      "0\n",
      "1\n",
      "4\n",
      "9\n",
      "16\n",
      "listo el pollo\n"
     ]
    }
   ],
   "source": [
    "a=5\n",
    "b=0\n",
    "while b<a:\n",
    "    print(b**2)\n",
    "    b+=1\n",
    "for b in range(0,a):\n",
    "    print(b**2)\n",
    "print(\"listo el pollo\") "
   ]
  },
  {
   "attachments": {},
   "cell_type": "markdown",
   "metadata": {},
   "source": [
    "6) Utilizar un ciclo while para realizar el factorial de un número guardado en una variable, sólo si la variable contiene un número entero mayor a 0"
   ]
  },
  {
   "cell_type": "code",
   "execution_count": 18,
   "metadata": {},
   "outputs": [
    {
     "name": "stdout",
     "output_type": "stream",
     "text": [
      "el factorial de  6  es  720\n"
     ]
    }
   ],
   "source": [
    "a= 6\n",
    "if a>0:\n",
    "    b=1\n",
    "    c=1\n",
    "    while b<a+1:\n",
    "        c = c*b\n",
    "        b+=1\n",
    "    print(\"el factorial de \",a,\" es \",c)\n",
    "elif a==0:\n",
    "    print(\"el factorial de \",a,\" es \",1)\n",
    "else:\n",
    "    print(\"el número es negativo, no se puede hacer el factorial\")\n"
   ]
  },
  {
   "attachments": {},
   "cell_type": "markdown",
   "metadata": {},
   "source": [
    "7) Crear un ciclo for dentro de un ciclo while"
   ]
  },
  {
   "cell_type": "code",
   "execution_count": 21,
   "metadata": {},
   "outputs": [
    {
     "name": "stdout",
     "output_type": "stream",
     "text": [
      "['do']\n",
      "['do', 're']\n",
      "['do', 're', 'mi']\n",
      "['do', 're', 'mi', 'fa']\n",
      "['do', 're', 'mi', 'fa', 'sol']\n",
      "['do', 're', 'mi', 'fa', 'sol', 'la']\n",
      "['do', 're', 'mi', 'fa', 'sol', 'la', 'si']\n"
     ]
    }
   ],
   "source": [
    "l = [\"do\",\"re\",\"mi\",\"fa\",\"sol\",\"la\", \"si\"]\n",
    "b=1\n",
    "while b<=7:\n",
    "    c=[]\n",
    "    for a in range(0,b):\n",
    "        c.append(l[a])\n",
    "    print(c)\n",
    "    b +=1\n",
    "\n",
    "\n"
   ]
  },
  {
   "attachments": {},
   "cell_type": "markdown",
   "metadata": {},
   "source": [
    "8) Crear un ciclo while dentro de un ciclo for"
   ]
  },
  {
   "cell_type": "code",
   "execution_count": 24,
   "metadata": {},
   "outputs": [
    {
     "name": "stdout",
     "output_type": "stream",
     "text": [
      "la suma de los  2  1 es 2\n",
      "la suma de los  4  1 es 4\n",
      "la suma de los  6  1 es 6\n",
      "la suma de los  8  1 es 8\n"
     ]
    }
   ],
   "source": [
    "for a in range(2,10,2):\n",
    "    b= 1\n",
    "    while b<a:\n",
    "       b+=1 \n",
    "    print(\"la suma de los \",a,\" 1 es\",b)"
   ]
  },
  {
   "attachments": {},
   "cell_type": "markdown",
   "metadata": {},
   "source": [
    "9) Imprimir los números primos existentes entre 0 y 30"
   ]
  },
  {
   "cell_type": "code",
   "execution_count": 32,
   "metadata": {},
   "outputs": [
    {
     "name": "stdout",
     "output_type": "stream",
     "text": [
      "elnúmero 2 es primo\n",
      "elnúmero 3 es primo\n",
      "elnúmero 5 es primo\n",
      "elnúmero 7 es primo\n",
      "elnúmero 11 es primo\n",
      "elnúmero 13 es primo\n",
      "elnúmero 17 es primo\n",
      "elnúmero 19 es primo\n",
      "elnúmero 23 es primo\n",
      "elnúmero 29 es primo\n"
     ]
    }
   ],
   "source": [
    "a=True\n",
    "for i in range (2,31):\n",
    "    for j in range(2,i):\n",
    "        if (i%j==0):\n",
    "            a=False\n",
    "    if a==True:\n",
    "        print(\"elnúmero\",i,\"es primo\")\n",
    "    else:\n",
    "        a=True\n",
    "\n",
    "            "
   ]
  },
  {
   "attachments": {},
   "cell_type": "markdown",
   "metadata": {},
   "source": [
    "10) ¿Se puede mejorar el proceso del punto 9? Utilizar las sentencias break y/ó continue para tal fin"
   ]
  },
  {
   "cell_type": "code",
   "execution_count": 33,
   "metadata": {},
   "outputs": [
    {
     "name": "stdout",
     "output_type": "stream",
     "text": [
      "elnúmero 2 es primo\n",
      "elnúmero 3 es primo\n",
      "elnúmero 5 es primo\n",
      "elnúmero 7 es primo\n",
      "elnúmero 11 es primo\n",
      "elnúmero 13 es primo\n",
      "elnúmero 17 es primo\n",
      "elnúmero 19 es primo\n",
      "elnúmero 23 es primo\n",
      "elnúmero 29 es primo\n"
     ]
    }
   ],
   "source": [
    "a=True\n",
    "for i in range (2,31):\n",
    "    for j in range(2,i):\n",
    "        if (i%j==0):\n",
    "            a=False\n",
    "            break\n",
    "    if a==True:\n",
    "        print(\"elnúmero\",i,\"es primo\")\n",
    "    else:\n",
    "        a=True"
   ]
  },
  {
   "attachments": {},
   "cell_type": "markdown",
   "metadata": {},
   "source": [
    "11) En los puntos 9 y 10, se diseño un código que encuentra números primos y además se lo optimizó. ¿Es posible saber en qué medida se optimizó?"
   ]
  },
  {
   "cell_type": "code",
   "execution_count": 37,
   "metadata": {},
   "outputs": [
    {
     "name": "stdout",
     "output_type": "stream",
     "text": [
      "elnúmero 2 es primo\n",
      "elnúmero 3 es primo\n",
      "elnúmero 5 es primo\n",
      "elnúmero 7 es primo\n",
      "elnúmero 11 es primo\n",
      "elnúmero 13 es primo\n",
      "elnúmero 17 es primo\n",
      "elnúmero 19 es primo\n",
      "elnúmero 23 es primo\n",
      "elnúmero 29 es primo\n",
      "elnúmero 2 es primo\n",
      "elnúmero 3 es primo\n",
      "elnúmero 5 es primo\n",
      "elnúmero 7 es primo\n",
      "elnúmero 11 es primo\n",
      "elnúmero 13 es primo\n",
      "elnúmero 17 es primo\n",
      "elnúmero 19 es primo\n",
      "elnúmero 23 es primo\n",
      "elnúmero 29 es primo\n",
      "tiempo 1= 0.0010058879852294922 tiempo 2 0.0013630390167236328\n",
      "diferencia= 0.0003571510314941406\n"
     ]
    }
   ],
   "source": [
    "#se me ocurrio calculando el tiempo de ejecución y encontré esta forma\n",
    "from time import time\n",
    "tini1 = time()\n",
    "a=True\n",
    "for i in range (2,31):\n",
    "    for j in range(2,i):\n",
    "        if (i%j==0):\n",
    "            a=False\n",
    "    if a==True:\n",
    "        print(\"elnúmero\",i,\"es primo\")\n",
    "    else:\n",
    "        a=True\n",
    "tfin1= time()\n",
    "ttotal1= tfin1 - tini1\n",
    "tini2 = time()\n",
    "a=True\n",
    "for i in range (2,31):\n",
    "    for j in range(2,i):\n",
    "        if (i%j==0):\n",
    "            a=False\n",
    "            break\n",
    "    if a==True:\n",
    "        print(\"elnúmero\",i,\"es primo\")\n",
    "    else:\n",
    "        a=True\n",
    "tfin2= time()\n",
    "ttotal2= tfin2 - tini2\n",
    "print(\"tiempo 1=\", ttotal1, \"tiempo 2\", ttotal2)\n",
    "print ( \"diferencia=\",ttotal2-ttotal1)"
   ]
  },
  {
   "attachments": {},
   "cell_type": "markdown",
   "metadata": {},
   "source": [
    "12) Aplicando continue, armar un ciclo while que solo imprima los valores divisibles por 12, dentro del rango de números de 100 a 300"
   ]
  },
  {
   "cell_type": "code",
   "execution_count": 3,
   "metadata": {},
   "outputs": [
    {
     "name": "stdout",
     "output_type": "stream",
     "text": [
      "el número  108  es divisible por 12\n",
      "el número  120  es divisible por 12\n",
      "el número  132  es divisible por 12\n",
      "el número  144  es divisible por 12\n",
      "el número  156  es divisible por 12\n",
      "el número  168  es divisible por 12\n",
      "el número  180  es divisible por 12\n",
      "el número  192  es divisible por 12\n",
      "el número  204  es divisible por 12\n",
      "el número  216  es divisible por 12\n",
      "el número  228  es divisible por 12\n",
      "el número  240  es divisible por 12\n",
      "el número  252  es divisible por 12\n",
      "el número  264  es divisible por 12\n",
      "el número  276  es divisible por 12\n",
      "el número  288  es divisible por 12\n",
      "el número  300  es divisible por 12\n"
     ]
    }
   ],
   "source": [
    "a=99\n",
    "while a<=300:\n",
    "    a += 1\n",
    "    if a%12 != 0:\n",
    "        continue\n",
    "    else:\n",
    "        print(\"el número \",a,\" es divisible por 12\")\n"
   ]
  },
  {
   "attachments": {},
   "cell_type": "markdown",
   "metadata": {},
   "source": [
    "13) Utilizar la función **input()** que permite hacer ingresos por teclado, para encontrar números primos y dar la opción al usario de buscar el siguiente"
   ]
  },
  {
   "cell_type": "code",
   "execution_count": 5,
   "metadata": {},
   "outputs": [
    {
     "name": "stdout",
     "output_type": "stream",
     "text": [
      "el primer primo es 2 ¿continuams? si/no\n",
      "el siguiente primo es 3 ¿continuamos?\n",
      "el siguiente primo es 5 ¿continuamos?\n",
      "el siguiente primo es 7 ¿continuamos?\n",
      "el siguiente primo es 11 ¿continuamos?\n"
     ]
    },
    {
     "ename": "SystemExit",
     "evalue": "terminamos, gracias por participar",
     "output_type": "error",
     "traceback": [
      "An exception has occurred, use %tb to see the full traceback.\n",
      "\u001b[1;31mSystemExit\u001b[0m\u001b[1;31m:\u001b[0m terminamos, gracias por participar\n"
     ]
    },
    {
     "name": "stderr",
     "output_type": "stream",
     "text": [
      "C:\\Users\\lauta\\AppData\\Roaming\\Python\\Python312\\site-packages\\IPython\\core\\interactiveshell.py:3561: UserWarning: To exit: use 'exit', 'quit', or Ctrl-D.\n",
      "  warn(\"To exit: use 'exit', 'quit', or Ctrl-D.\", stacklevel=1)\n"
     ]
    }
   ],
   "source": [
    "import sys\n",
    "preg=True\n",
    "b= input(print(\"el primer primo es 2 ¿continuams? si/no\"))\n",
    "if b==\"no\":\n",
    "    sys.exit(\"terminamos, gracias por participar\")\n",
    "b=3\n",
    "a= True\n",
    "while preg == True:\n",
    "    for j in range(2,b):\n",
    "        if (b%j==0):\n",
    "            a=False\n",
    "            break\n",
    "    if a==True:\n",
    "        c=input(print(\"el siguiente primo es\",b,\"¿continuamos?\"))\n",
    "        if c==\"si\":\n",
    "            b+=1\n",
    "        else:\n",
    "            sys.exit(\"terminamos, gracias por participar\")\n",
    "    else:\n",
    "        a=True\n",
    "        b += 1\n",
    "    \n"
   ]
  },
  {
   "attachments": {},
   "cell_type": "markdown",
   "metadata": {},
   "source": [
    "14) Crear un ciclo while que encuentre dentro del rango de 100 a 300 el primer número divisible por 3 y además múltiplo de 6"
   ]
  },
  {
   "cell_type": "code",
   "execution_count": 9,
   "metadata": {},
   "outputs": [
    {
     "name": "stdout",
     "output_type": "stream",
     "text": [
      "el primer numero es 102\n",
      "ya que 102 dividido 3 es  34.0\n",
      "y tenemos la siguiente igualdad: 102 = 17.0 x6\n"
     ]
    }
   ],
   "source": [
    "a=100\n",
    "while a <= 300:\n",
    "    if a%6 == 0:\n",
    "        print(\"el primer numero es\",a )\n",
    "        print (\"ya que\",a,\"dividido 3 es \",a/3 )\n",
    "        print (\"y tenemos la siguiente igualdad:\",a,\"=\",a/6,\"x6\")\n",
    "        break\n",
    "    else:\n",
    "        a += 1\n",
    "# solo en necesario dividirlo por 6 ya que si un numero es multiplo de 6 entonces 3 lo dividi (ya que 6 = 3x2)"
   ]
  }
 ],
 "metadata": {
  "interpreter": {
   "hash": "c85384e4cb51c8b72350f3a8712cc8351fdc3955e32a27f9b60c6242ab125f01"
  },
  "kernelspec": {
   "display_name": "Python 3 (ipykernel)",
   "language": "python",
   "name": "python3"
  },
  "language_info": {
   "codemirror_mode": {
    "name": "ipython",
    "version": 3
   },
   "file_extension": ".py",
   "mimetype": "text/x-python",
   "name": "python",
   "nbconvert_exporter": "python",
   "pygments_lexer": "ipython3",
   "version": "3.12.1"
  }
 },
 "nbformat": 4,
 "nbformat_minor": 4
}
